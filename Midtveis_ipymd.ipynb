{
  "nbformat": 4,
  "nbformat_minor": 0,
  "metadata": {
    "colab": {
      "provenance": []
    },
    "kernelspec": {
      "name": "python3",
      "display_name": "Python 3"
    },
    "language_info": {
      "name": "python"
    }
  },
  "cells": [
    {
      "cell_type": "code",
      "execution_count": 3,
      "metadata": {
        "id": "nTiuCK_sNIFJ"
      },
      "outputs": [],
      "source": [
        "import numpy as np\n",
        "import sympy as smp\n",
        "from scipy.integrate import odeint\n",
        "import matplotlib.pyplot as plt\n",
        "from matplotlib import animation\n",
        "from mpl_toolkits.mplot3d import Axes3D\n",
        "from matplotlib.animation import PillowWriter"
      ]
    },
    {
      "cell_type": "code",
      "source": [
        "t, g = smp.symbols(\"t g\")\n",
        "m1, m2 = smp.symbols(\"m1 m2\")\n",
        "L1, L2 = smp.symbols(\"L1 L2\")"
      ],
      "metadata": {
        "id": "DG9xzq02NRa3"
      },
      "execution_count": 4,
      "outputs": []
    },
    {
      "cell_type": "code",
      "source": [
        "phi1 = smp.symbols(\"phi_1\",cls=smp.Function)\n",
        "phi2 = smp.symbols(\"phi_2\",cls=smp.Function)"
      ],
      "metadata": {
        "id": "PGUUopHfNkoY"
      },
      "execution_count": 5,
      "outputs": []
    },
    {
      "cell_type": "code",
      "source": [
        "phi1, phi2 = phi1(t),phi2(t)"
      ],
      "metadata": {
        "id": "eJDPXhzCNlEb"
      },
      "execution_count": 6,
      "outputs": []
    },
    {
      "cell_type": "code",
      "source": [
        "phi1,phi2"
      ],
      "metadata": {
        "id": "exf3QRN8elxt"
      },
      "execution_count": null,
      "outputs": []
    },
    {
      "cell_type": "code",
      "source": [
        "phi1_d = smp.diff(phi1, t)\n",
        "phi2_d = smp.diff(phi2, t)\n",
        "phi1_dd = smp.diff(phi1_d, t)\n",
        "phi2_dd = smp.diff(phi2_d, t)"
      ],
      "metadata": {
        "id": "3uj9w1wBNmRI"
      },
      "execution_count": 7,
      "outputs": []
    },
    {
      "cell_type": "code",
      "source": [
        "x1 = L1*smp.sin(phi1)\n",
        "y1 = -L1*smp.cos(phi1)\n",
        "x2 = L1*smp.sin(phi1)+L2*smp.sin(phi2)\n",
        "y2 = -L1*smp.cos(phi1)-L2*smp.cos(phi2)"
      ],
      "metadata": {
        "id": "26K8CbipSX6m"
      },
      "execution_count": 8,
      "outputs": []
    },
    {
      "cell_type": "code",
      "source": [
        "T1 = 1/2 * m1 * (smp.diff(x1, t)**2 + smp.diff(y1, t)**2)\n",
        "T2 = 1/2 * m2 * (smp.diff(x2, t)**2 + smp.diff(y2, t)**2)\n",
        "T = T1+T2"
      ],
      "metadata": {
        "id": "wvIw7pAUSjud"
      },
      "execution_count": 9,
      "outputs": []
    },
    {
      "cell_type": "code",
      "source": [
        "T"
      ],
      "metadata": {
        "id": "FIKQ_ofoe8MH"
      },
      "execution_count": null,
      "outputs": []
    },
    {
      "cell_type": "code",
      "source": [
        "U1 = m1*g*y1\n",
        "U2 = m2*g*y2\n",
        "U = U1 + U2"
      ],
      "metadata": {
        "id": "jRXe6iXTSl43"
      },
      "execution_count": 10,
      "outputs": []
    },
    {
      "cell_type": "code",
      "source": [
        "U"
      ],
      "metadata": {
        "id": "klNQ769ee_mD"
      },
      "execution_count": null,
      "outputs": []
    },
    {
      "cell_type": "code",
      "source": [
        "L = T-U"
      ],
      "metadata": {
        "id": "8-EWfgCrSnh0"
      },
      "execution_count": 11,
      "outputs": []
    },
    {
      "cell_type": "code",
      "source": [
        "L"
      ],
      "metadata": {
        "id": "XSOa9tDMSpmS"
      },
      "execution_count": null,
      "outputs": []
    },
    {
      "cell_type": "code",
      "source": [
        "LE1 = smp.diff(L, phi1) - smp.diff(smp.diff(L, phi1_d), t).simplify()\n",
        "LE2 = smp.diff(L, phi2) - smp.diff(smp.diff(L, phi2_d), t).simplify()"
      ],
      "metadata": {
        "id": "Y2syzSGTSxQ2"
      },
      "execution_count": 12,
      "outputs": []
    },
    {
      "cell_type": "code",
      "source": [
        "LE1"
      ],
      "metadata": {
        "id": "bhGSzXgrfFv9",
        "colab": {
          "base_uri": "https://localhost:8080/",
          "height": 151
        },
        "outputId": "67e63cbc-1f55-4868-84d7-e2080ad4cdc1"
      },
      "execution_count": 13,
      "outputs": [
        {
          "output_type": "execute_result",
          "data": {
            "text/plain": [
              "-L1*g*m1*sin(phi_1(t)) - L1*g*m2*sin(phi_1(t)) - L1*(L1*m1*Derivative(phi_1(t), (t, 2)) + L1*m2*Derivative(phi_1(t), (t, 2)) - L2*m2*sin(phi_1(t) - phi_2(t))*Derivative(phi_1(t), t)*Derivative(phi_2(t), t) + L2*m2*sin(phi_1(t) - phi_2(t))*Derivative(phi_2(t), t)**2 + L2*m2*cos(phi_1(t) - phi_2(t))*Derivative(phi_2(t), (t, 2))) + 0.5*m2*(2*L1*(L1*sin(phi_1(t))*Derivative(phi_1(t), t) + L2*sin(phi_2(t))*Derivative(phi_2(t), t))*cos(phi_1(t))*Derivative(phi_1(t), t) - 2*L1*(L1*cos(phi_1(t))*Derivative(phi_1(t), t) + L2*cos(phi_2(t))*Derivative(phi_2(t), t))*sin(phi_1(t))*Derivative(phi_1(t), t))"
            ],
            "text/latex": "$\\displaystyle - L_{1} g m_{1} \\sin{\\left(\\phi_{1}{\\left(t \\right)} \\right)} - L_{1} g m_{2} \\sin{\\left(\\phi_{1}{\\left(t \\right)} \\right)} - L_{1} \\left(L_{1} m_{1} \\frac{d^{2}}{d t^{2}} \\phi_{1}{\\left(t \\right)} + L_{1} m_{2} \\frac{d^{2}}{d t^{2}} \\phi_{1}{\\left(t \\right)} - L_{2} m_{2} \\sin{\\left(\\phi_{1}{\\left(t \\right)} - \\phi_{2}{\\left(t \\right)} \\right)} \\frac{d}{d t} \\phi_{1}{\\left(t \\right)} \\frac{d}{d t} \\phi_{2}{\\left(t \\right)} + L_{2} m_{2} \\sin{\\left(\\phi_{1}{\\left(t \\right)} - \\phi_{2}{\\left(t \\right)} \\right)} \\left(\\frac{d}{d t} \\phi_{2}{\\left(t \\right)}\\right)^{2} + L_{2} m_{2} \\cos{\\left(\\phi_{1}{\\left(t \\right)} - \\phi_{2}{\\left(t \\right)} \\right)} \\frac{d^{2}}{d t^{2}} \\phi_{2}{\\left(t \\right)}\\right) + 0.5 m_{2} \\cdot \\left(2 L_{1} \\left(L_{1} \\sin{\\left(\\phi_{1}{\\left(t \\right)} \\right)} \\frac{d}{d t} \\phi_{1}{\\left(t \\right)} + L_{2} \\sin{\\left(\\phi_{2}{\\left(t \\right)} \\right)} \\frac{d}{d t} \\phi_{2}{\\left(t \\right)}\\right) \\cos{\\left(\\phi_{1}{\\left(t \\right)} \\right)} \\frac{d}{d t} \\phi_{1}{\\left(t \\right)} - 2 L_{1} \\left(L_{1} \\cos{\\left(\\phi_{1}{\\left(t \\right)} \\right)} \\frac{d}{d t} \\phi_{1}{\\left(t \\right)} + L_{2} \\cos{\\left(\\phi_{2}{\\left(t \\right)} \\right)} \\frac{d}{d t} \\phi_{2}{\\left(t \\right)}\\right) \\sin{\\left(\\phi_{1}{\\left(t \\right)} \\right)} \\frac{d}{d t} \\phi_{1}{\\left(t \\right)}\\right)$"
          },
          "metadata": {},
          "execution_count": 13
        }
      ]
    },
    {
      "cell_type": "code",
      "source": [
        "LE2"
      ],
      "metadata": {
        "id": "65-1CNKqfJZA",
        "colab": {
          "base_uri": "https://localhost:8080/",
          "height": 151
        },
        "outputId": "66b21a6c-795e-4060-8394-49f506f325a0"
      },
      "execution_count": 14,
      "outputs": [
        {
          "output_type": "execute_result",
          "data": {
            "text/plain": [
              "-L2*g*m2*sin(phi_2(t)) - 1.0*L2*m2*(-L1*sin(phi_1(t) - phi_2(t))*Derivative(phi_1(t), t)**2 + L1*sin(phi_1(t) - phi_2(t))*Derivative(phi_1(t), t)*Derivative(phi_2(t), t) + L1*cos(phi_1(t) - phi_2(t))*Derivative(phi_1(t), (t, 2)) + L2*Derivative(phi_2(t), (t, 2))) + 0.5*m2*(2*L2*(L1*sin(phi_1(t))*Derivative(phi_1(t), t) + L2*sin(phi_2(t))*Derivative(phi_2(t), t))*cos(phi_2(t))*Derivative(phi_2(t), t) - 2*L2*(L1*cos(phi_1(t))*Derivative(phi_1(t), t) + L2*cos(phi_2(t))*Derivative(phi_2(t), t))*sin(phi_2(t))*Derivative(phi_2(t), t))"
            ],
            "text/latex": "$\\displaystyle - L_{2} g m_{2} \\sin{\\left(\\phi_{2}{\\left(t \\right)} \\right)} - 1.0 L_{2} m_{2} \\left(- L_{1} \\sin{\\left(\\phi_{1}{\\left(t \\right)} - \\phi_{2}{\\left(t \\right)} \\right)} \\left(\\frac{d}{d t} \\phi_{1}{\\left(t \\right)}\\right)^{2} + L_{1} \\sin{\\left(\\phi_{1}{\\left(t \\right)} - \\phi_{2}{\\left(t \\right)} \\right)} \\frac{d}{d t} \\phi_{1}{\\left(t \\right)} \\frac{d}{d t} \\phi_{2}{\\left(t \\right)} + L_{1} \\cos{\\left(\\phi_{1}{\\left(t \\right)} - \\phi_{2}{\\left(t \\right)} \\right)} \\frac{d^{2}}{d t^{2}} \\phi_{1}{\\left(t \\right)} + L_{2} \\frac{d^{2}}{d t^{2}} \\phi_{2}{\\left(t \\right)}\\right) + 0.5 m_{2} \\cdot \\left(2 L_{2} \\left(L_{1} \\sin{\\left(\\phi_{1}{\\left(t \\right)} \\right)} \\frac{d}{d t} \\phi_{1}{\\left(t \\right)} + L_{2} \\sin{\\left(\\phi_{2}{\\left(t \\right)} \\right)} \\frac{d}{d t} \\phi_{2}{\\left(t \\right)}\\right) \\cos{\\left(\\phi_{2}{\\left(t \\right)} \\right)} \\frac{d}{d t} \\phi_{2}{\\left(t \\right)} - 2 L_{2} \\left(L_{1} \\cos{\\left(\\phi_{1}{\\left(t \\right)} \\right)} \\frac{d}{d t} \\phi_{1}{\\left(t \\right)} + L_{2} \\cos{\\left(\\phi_{2}{\\left(t \\right)} \\right)} \\frac{d}{d t} \\phi_{2}{\\left(t \\right)}\\right) \\sin{\\left(\\phi_{2}{\\left(t \\right)} \\right)} \\frac{d}{d t} \\phi_{2}{\\left(t \\right)}\\right)$"
          },
          "metadata": {},
          "execution_count": 14
        }
      ]
    },
    {
      "cell_type": "code",
      "source": [
        "#Løser Lagrange likningene med hensyn på phi1_dd og phi2_dd\n",
        "sols = smp.solve([LE1, LE2], (phi1_dd, phi2_dd),\n",
        "                simplify=False, rational=False)"
      ],
      "metadata": {
        "id": "vqadZOSES7wv"
      },
      "execution_count": 15,
      "outputs": []
    },
    {
      "cell_type": "code",
      "source": [
        "sols[phi1_dd]"
      ],
      "metadata": {
        "id": "yozwpbnGZbvC"
      },
      "execution_count": null,
      "outputs": []
    },
    {
      "cell_type": "code",
      "source": [
        "sols[phi2_dd]"
      ],
      "metadata": {
        "id": "hWNq13dWaVOk"
      },
      "execution_count": null,
      "outputs": []
    },
    {
      "cell_type": "code",
      "source": [
        "\"\"\"\n",
        "For å løse numerisk, definerer vi funksjonen z, slik at vi kan finne de løste\n",
        "differensial likningene:\n",
        "\"\"\"\n",
        "dz1dt_f = smp.lambdify((t,g,m1,m2,L1,L2,phi1,phi2,phi1_d,phi2_d), sols[phi1_dd])\n",
        "dz2dt_f = smp.lambdify((t,g,m1,m2,L1,L2,phi1,phi2,phi1_d,phi2_d), sols[phi2_dd])\n",
        "dphi1dt_f = smp.lambdify(phi1_d, phi1_d)\n",
        "dphi2dt_f = smp.lambdify(phi2_d, phi2_d)"
      ],
      "metadata": {
        "id": "rqZVdum5aXtU"
      },
      "execution_count": null,
      "outputs": []
    },
    {
      "cell_type": "code",
      "source": [
        "def dSdt(S, t, g, m1, m2, L1, L2):\n",
        "    phi1, z1, phi2, z2 = S\n",
        "    return [\n",
        "        dphi1dt_f(z1),\n",
        "        dz1dt_f(t, g, m1, m2, L1, L2, phi1, phi2, z1, z2),\n",
        "        dphi2dt_f(z2),\n",
        "        dz2dt_f(t, g, m1, m2, L1, L2, phi1, phi2, z1, z2),]"
      ],
      "metadata": {
        "id": "OwB7BVdaamg-"
      },
      "execution_count": null,
      "outputs": []
    },
    {
      "cell_type": "code",
      "source": [
        "\"\"\"\n",
        "Setter initsialbetingelser og lager tidsrommet:\n",
        "\"\"\"\n",
        "t = np.linspace(0, 40, 1001)\n",
        "g = 9.81\n",
        "m1=1\n",
        "m2=2\n",
        "L1 = 2\n",
        "L2 = 1\n",
        "y0 = [np.pi,-3,1/2*np.pi,5]\n",
        "#y0 er altså: Pendel1 sin startvinel og vinkelhastighet. Og Pendel2 sin startvinkel og vinkelhastighet"
      ],
      "metadata": {
        "id": "TVGLkiDtaxii"
      },
      "execution_count": null,
      "outputs": []
    },
    {
      "cell_type": "code",
      "source": [
        "#Bruker ode solver for å løse likningen:\n",
        "ans = odeint(dSdt, y0, t=t, args=(g,m1,m2,L1,L2))"
      ],
      "metadata": {
        "id": "M8I7YLAPa3LE"
      },
      "execution_count": null,
      "outputs": []
    },
    {
      "cell_type": "code",
      "source": [
        "ans1 = odeint(dSdt, y0=[1,2,3,4], t=t, args=(g,m1,m2,L1,L2))\n",
        "ans2 = odeint(dSdt, y0=[1,-2,3,-3], t=t, args=(g,2,m2,1.2,2))\n",
        "ans3 = odeint(dSdt, y0=[1,1,1/2*np.pi,np.pi], t=t, args=(g,2,1,1.2,1))"
      ],
      "metadata": {
        "id": "EHmTHowP3Qqe"
      },
      "execution_count": null,
      "outputs": []
    },
    {
      "cell_type": "code",
      "source": [
        "ans4 = odeint(dSdt, y0=[0,0.1,0,0.1], t=t, args=(g,1,1,1,1))"
      ],
      "metadata": {
        "id": "w4efgtHg5Esv"
      },
      "execution_count": null,
      "outputs": []
    },
    {
      "cell_type": "code",
      "source": [
        "ans4"
      ],
      "metadata": {
        "colab": {
          "base_uri": "https://localhost:8080/"
        },
        "id": "8K2NMUHo5W-v",
        "outputId": "1f6a5dc9-7eca-4916-a373-8737dc964ec4"
      },
      "execution_count": null,
      "outputs": [
        {
          "output_type": "execute_result",
          "data": {
            "text/plain": [
              "array([[ 0.        ,  0.1       ,  0.        ,  0.1       ],\n",
              "       [ 0.00398955,  0.09921727,  0.00399998,  0.09999793],\n",
              "       [ 0.00791681,  0.0968935 ,  0.00799947,  0.09996737],\n",
              "       ...,\n",
              "       [ 0.03278877,  0.01334603,  0.05346334,  0.01304902],\n",
              "       [ 0.03322579,  0.00846059,  0.05366178, -0.00309568],\n",
              "       [ 0.03346145,  0.00326273,  0.0532205 , -0.01887984]])"
            ]
          },
          "metadata": {},
          "execution_count": 179
        }
      ]
    },
    {
      "cell_type": "code",
      "source": [
        "ans4.T[0],ans4.T[2]"
      ],
      "metadata": {
        "colab": {
          "base_uri": "https://localhost:8080/"
        },
        "id": "ZFmyAiF25lV_",
        "outputId": "20a42ab6-8fc1-4a8e-b4eb-c5de5931ecca"
      },
      "execution_count": null,
      "outputs": [
        {
          "output_type": "execute_result",
          "data": {
            "text/plain": [
              "(array([0.        , 0.00398955, 0.00791681, ..., 0.03278877, 0.03322579,\n",
              "        0.03346145]),\n",
              " array([0.        , 0.00399998, 0.00799947, ..., 0.05346334, 0.05366178,\n",
              "        0.0532205 ]))"
            ]
          },
          "metadata": {},
          "execution_count": 186
        }
      ]
    },
    {
      "cell_type": "code",
      "source": [
        "plt.plot(t, phi2)\n",
        "plt.show()"
      ],
      "metadata": {
        "colab": {
          "base_uri": "https://localhost:8080/",
          "height": 265
        },
        "id": "fDRVTtxN5r8L",
        "outputId": "a6faae87-c754-485c-8ea8-007033c32148"
      },
      "execution_count": null,
      "outputs": [
        {
          "output_type": "display_data",
          "data": {
            "text/plain": [
              "<Figure size 432x288 with 1 Axes>"
            ],
            "image/png": "[encoded data removed]"
          },
          "metadata": {
            "needs_background": "light"
          }
        }
      ]
    },
    {
      "cell_type": "code",
      "source": [
        "ans"
      ],
      "metadata": {
        "colab": {
          "base_uri": "https://localhost:8080/"
        },
        "id": "lOE3lAWu3fjd",
        "outputId": "841397ef-8572-486e-d84d-51c4b669b5ee"
      },
      "execution_count": null,
      "outputs": [
        {
          "output_type": "execute_result",
          "data": {
            "text/plain": [
              "array([[ 1.        , -3.        , -1.        ,  5.        ],\n",
              "       [ 0.87413906, -3.31025173, -0.78277685,  5.91440903],\n",
              "       [ 0.73333306, -3.75998052, -0.52139856,  7.24155048],\n",
              "       ...,\n",
              "       [-2.13759318, -1.41988655, 42.27212899,  2.0224495 ],\n",
              "       [-2.19090541, -1.24705711, 42.35327744,  2.041621  ],\n",
              "       [-2.23745698, -1.08160654, 42.4360194 ,  2.10261664]])"
            ]
          },
          "metadata": {},
          "execution_count": 173
        }
      ]
    },
    {
      "cell_type": "code",
      "source": [
        "ans1"
      ],
      "metadata": {
        "colab": {
          "base_uri": "https://localhost:8080/"
        },
        "id": "qnvTuvmG3czN",
        "outputId": "3bcc7eae-ba30-43bf-8a08-189b808253fe"
      },
      "execution_count": null,
      "outputs": [
        {
          "output_type": "execute_result",
          "data": {
            "text/plain": [
              "array([[  1.        ,   2.        ,   3.        ,   4.        ],\n",
              "       [  1.07921934,   1.95286327,   3.15292354,   3.65179893],\n",
              "       [  1.15567181,   1.86389457,   3.29264944,   3.34148819],\n",
              "       ...,\n",
              "       [  0.5069233 ,  -2.25716883, -17.03486552,  -4.46836686],\n",
              "       [  0.42243087,  -1.94101976, -17.23191188,  -5.3946773 ],\n",
              "       [  0.35402693,  -1.44513729, -17.46793724,  -6.43735878]])"
            ]
          },
          "metadata": {},
          "execution_count": 172
        }
      ]
    },
    {
      "cell_type": "code",
      "source": [
        "ans2"
      ],
      "metadata": {
        "colab": {
          "base_uri": "https://localhost:8080/"
        },
        "id": "9XrzClfn328c",
        "outputId": "3978f3d2-ae30-4010-864a-f752074ca64e"
      },
      "execution_count": null,
      "outputs": [
        {
          "output_type": "execute_result",
          "data": {
            "text/plain": [
              "array([[  1.        ,  -2.        ,   3.        ,  -3.        ],\n",
              "       [  0.91935625,  -2.02474585,   2.87735532,  -3.13493227],\n",
              "       [  0.83868098,  -1.99995699,   2.74901519,  -3.28412709],\n",
              "       ...,\n",
              "       [ -7.52315132,   2.83004314, -12.1405286 ,  -4.22664498],\n",
              "       [ -7.39133815,   3.79108234, -12.31580302,  -4.58658083],\n",
              "       [ -7.21584231,   5.05961581, -12.5126025 ,  -5.3376167 ]])"
            ]
          },
          "metadata": {},
          "execution_count": 176
        }
      ]
    },
    {
      "cell_type": "code",
      "source": [
        "ans3"
      ],
      "metadata": {
        "colab": {
          "base_uri": "https://localhost:8080/"
        },
        "id": "1iIB9HWd34z-",
        "outputId": "1fb7725d-1a0f-42ca-9691-7e18c903d94b"
      },
      "execution_count": null,
      "outputs": [
        {
          "output_type": "execute_result",
          "data": {
            "text/plain": [
              "array([[ 1.        ,  1.        ,  1.57079633,  3.14159265],\n",
              "       [ 1.0368038 ,  0.83752858,  1.69130273,  2.88616143],\n",
              "       [ 1.06678478,  0.65880986,  1.80191313,  2.6473706 ],\n",
              "       ...,\n",
              "       [-0.19647355,  3.60672113, -0.68314178,  1.20436714],\n",
              "       [-0.0547202 ,  3.46980814, -0.62148222,  1.88888179],\n",
              "       [ 0.08024228,  3.26762516, -0.53155417,  2.60955865]])"
            ]
          },
          "metadata": {},
          "execution_count": 177
        }
      ]
    },
    {
      "cell_type": "code",
      "source": [
        "phi1 = ans.T[0]\n",
        "phi2 = ans.T[2]"
      ],
      "metadata": {
        "id": "TU7cddHKa56r"
      },
      "execution_count": null,
      "outputs": []
    },
    {
      "cell_type": "code",
      "source": [
        "ans.T[0], ans.T[2]"
      ],
      "metadata": {
        "colab": {
          "base_uri": "https://localhost:8080/"
        },
        "id": "SWmVnLeCr4Xl",
        "outputId": "4734b482-09db-43b4-de36-205d0d494666"
      },
      "execution_count": null,
      "outputs": [
        {
          "output_type": "execute_result",
          "data": {
            "text/plain": [
              "(array([ 1.        ,  0.87413906,  0.73333306, ..., -2.13759318,\n",
              "        -2.19090541, -2.23745698]),\n",
              " array([-1.        , -0.78277685, -0.52139856, ..., 42.27212899,\n",
              "        42.35327744, 42.4360194 ]))"
            ]
          },
          "metadata": {},
          "execution_count": 159
        }
      ]
    },
    {
      "cell_type": "code",
      "source": [
        "plt.plot(t,phi1)\n",
        "plt.show()"
      ],
      "metadata": {
        "colab": {
          "base_uri": "https://localhost:8080/",
          "height": 265
        },
        "id": "5rwSws9M1hgX",
        "outputId": "f2c143f0-4811-4719-b860-7fcdec680f26"
      },
      "execution_count": null,
      "outputs": [
        {
          "output_type": "display_data",
          "data": {
            "text/plain": [
              "<Figure size 432x288 with 1 Axes>"
            ],
            "image/png": "[encoded data removed]"
          },
          "metadata": {
            "needs_background": "light"
          }
        }
      ]
    },
    {
      "cell_type": "code",
      "source": [
        "def get_x1y1x2y2(t, phi1, phi2, L1, L2):\n",
        "    return (L1*np.sin(phi1),\n",
        "            -L1*np.cos(phi1),\n",
        "            L1*np.sin(phi1) + L2*np.sin(phi2),\n",
        "            -L1*np.cos(phi1) - L2*np.cos(phi2))"
      ],
      "metadata": {
        "id": "Fb6f8Gs8a--0"
      },
      "execution_count": null,
      "outputs": []
    },
    {
      "cell_type": "code",
      "source": [
        "x1, y1, x2, y2 = get_x1y1x2y2(t, ans.T[0], ans.T[2], L1, L2)"
      ],
      "metadata": {
        "id": "kvGJ82-kbGj2"
      },
      "execution_count": null,
      "outputs": []
    },
    {
      "cell_type": "code",
      "source": [
        "#Vi definerer funksjonen for å animere:\n",
        "def animer(i):\n",
        "    ln1.set_data([0, x1[i], x2[i]], [0, y1[i], y2[i]])"
      ],
      "metadata": {
        "id": "sF--oTpDbIhr"
      },
      "execution_count": null,
      "outputs": []
    },
    {
      "cell_type": "code",
      "source": [
        "fig, ax = plt.subplots(1,1, figsize=(8,8))\n",
        "ln1, = plt.plot([], [], 'ro--', lw=3, markersize=8)\n",
        "ax.set_ylim(-4,4)\n",
        "ax.set_xlim(-4,4)\n",
        "ani = animation.FuncAnimation(fig, animer, frames=1000, interval=50)\n",
        "ani.save('Dobbel_pendel.gif',writer='pillow',fps=25)"
      ],
      "metadata": {
        "colab": {
          "base_uri": "https://localhost:8080/",
          "height": 487
        },
        "id": "I9eI97-ib57M",
        "outputId": "2cf2ffae-9f52-44e8-8bc2-6f57a6889331"
      },
      "execution_count": null,
      "outputs": [
        {
          "output_type": "display_data",
          "data": {
            "text/plain": [
              "<Figure size 576x576 with 1 Axes>"
            ],
            "image/png": "[encoded data removed]"
          },
          "metadata": {
            "needs_background": "light"
          }
        }
      ]
    }
  ]
}